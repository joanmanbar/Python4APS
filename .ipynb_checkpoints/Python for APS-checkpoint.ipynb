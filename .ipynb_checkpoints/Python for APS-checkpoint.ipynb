{
 "cells": [
  {
   "cell_type": "markdown",
   "id": "cee6ecc9-558d-43ec-89e4-39a3c30474b1",
   "metadata": {},
   "source": []
  },
  {
   "cell_type": "markdown",
   "id": "d8c207ea",
   "metadata": {},
   "source": [
    "# Jupyter ~Python~ for APS Students\n",
    "\n",
    "Python is more than Jupyter, is a whole language!\n",
    "\n",
    "\n",
    "Python Tutorial! https://docs.python.org/3/tutorial/ \\\n",
    "Jupyter Notebook: https://jupyter-notebook.readthedocs.io/en/stable/ \\\n",
    "Jupyter's documentation: https://docs.jupyter.org/en/latest/ \\\n",
    "Markdown's cheat sheet: https://www.edureka.co/blog/wp-content/uploads/2018/10/Jupyter_Notebook_CheatSheet_Edureka.pdf"
   ]
  },
  {
   "cell_type": "markdown",
   "id": "7e0aa828-185f-4cc9-aa5e-18a8f6bdb67c",
   "metadata": {},
   "source": [
    "**Troubleshooting**\n",
    "\n",
    "* Google it!\n",
    "* Use Stackoverflow.\n",
    "* Use the documentation."
   ]
  },
  {
   "cell_type": "markdown",
   "id": "802131c9",
   "metadata": {},
   "source": [
    "**Some shortcuts in Jupyter:**\n",
    "- Markdown mode: Esc + M\n",
    "- Code mode: Esc + Y\n",
    "- Insert cell above: A\n",
    "- Insert cell below: B\n",
    "- Run current cell: Ctrl + Enter\n",
    "- Delete current cell: D + D\n",
    "\n",
    "\n",
    "- Comment: Ctrl + /"
   ]
  },
  {
   "cell_type": "code",
   "execution_count": null,
   "id": "e58db7df-7a62-4b2a-91dd-81f9766049eb",
   "metadata": {},
   "outputs": [],
   "source": []
  },
  {
   "cell_type": "markdown",
   "id": "c1270118-b7e6-4519-bb53-486d615786c4",
   "metadata": {},
   "source": [
    "## Jupyter Vs. Spyder or PyCharm?\n",
    "\n",
    "- Depends on you. Notebooks allow you to make reports ready for presentation. More transferable than Spyder/PyCharm\n",
    "- There are extensions that allow to list current variables and other functions from Spyder\n",
    "- Not so easy to run single line on Jupyter\n",
    "- My answer: Jupyter Lab. Includes single line execution"
   ]
  },
  {
   "cell_type": "code",
   "execution_count": null,
   "id": "17bbfa6c-ac26-4e1c-bd78-336c09fa72a8",
   "metadata": {},
   "outputs": [],
   "source": []
  },
  {
   "cell_type": "markdown",
   "id": "7f6145b9",
   "metadata": {},
   "source": [
    "## How about Colab? (Google's version of Jupyter)\n",
    "- Can open Jupyter Notebooks (.ipynb) files with Colab without need for installing Python or main packages.\n",
    "- May need to install custom or specific packages using `pip install`\n",
    "- It may require your consent to access files in your Drive\n",
    "- X number of hours a month, otherwise you have to pay\n",
    "- You can decide if you want to use GPU or CPU\n",
    "- "
   ]
  },
  {
   "cell_type": "markdown",
   "id": "f02f63e4-0176-4b3c-9186-0acbf574a29e",
   "metadata": {},
   "source": [
    "# Packages\n",
    "Mainly `!pip install mypackage` from your Jupyter Notebook, *or* `conda install -c conda-forge mypackage`.\n",
    "Conda seems to work better most times, but sometimes you have to try both. **Just Google it!**"
   ]
  },
  {
   "cell_type": "code",
   "execution_count": null,
   "id": "8c61dec9-e0f1-4d92-b714-459f822972db",
   "metadata": {},
   "outputs": [],
   "source": []
  },
  {
   "cell_type": "markdown",
   "id": "681c6423-2943-471e-a3ea-ab8de9ed4871",
   "metadata": {},
   "source": [
    "## Some of the main packages:\n",
    "\n",
    "| Package | Use | Source |\n",
    "| :-- | :-- | :-- |\n",
    "| `numpy` | Fundamental package for array computing | https://numpy.org/ | \n",
    "| `pandas` | Data analysis and manipulation | https://pandas.pydata.org/ |\n",
    "| `matplotlib` | Static, animated, and interactive visualizations | https://matplotlib.org/ |\n",
    "| `scikit-learn` | Robust for data analysis and machine learning | https://scikit-learn.org/stable/ |\n",
    "| `tensorflow` | Implementing neural networks | https://www.tensorflow.org/ |\n",
    "| `scipy` | Scientific and mathematical funtions derived from `NumPy` | https://scipy.org/ |\n",
    "| `statsmodels` |Hardcore statistics | https://www.statsmodels.org/stable/index.html |\n",
    "| `seaborn` | Data analysis and manipulation | https://seaborn.pydata.org/ |\n",
    "| `scikit-image` | Algorithms for image processing | https://scikit-image.org/ |\n",
    "| `opencv` | Computer vision, machine learning, and image processing | https://pypi.org/project/opencv-python/ |\n",
    "\n",
    "\n"
   ]
  },
  {
   "cell_type": "code",
   "execution_count": null,
   "id": "0dbcbee8",
   "metadata": {},
   "outputs": [],
   "source": []
  },
  {
   "cell_type": "markdown",
   "id": "a594761f-edf0-40ca-b23d-3f3fe3ee4108",
   "metadata": {},
   "source": [
    "# Markdown"
   ]
  },
  {
   "cell_type": "code",
   "execution_count": null,
   "id": "7537393f-ecde-4a40-af2b-5f573b566445",
   "metadata": {},
   "outputs": [],
   "source": [
    "# This is a comment in a code mode cell"
   ]
  },
  {
   "cell_type": "code",
   "execution_count": null,
   "id": "a91c80fe",
   "metadata": {},
   "outputs": [],
   "source": [
    "This is an error"
   ]
  },
  {
   "cell_type": "markdown",
   "id": "d71d0faf",
   "metadata": {},
   "source": [
    "simple text\n",
    "\n",
    "## This is a subtitle\n",
    "\n",
    "Some **bold text**\n",
    "Some _italic text_\n",
    "\n",
    "Some text with `code` in it"
   ]
  },
  {
   "cell_type": "code",
   "execution_count": null,
   "id": "9ff93422",
   "metadata": {},
   "outputs": [],
   "source": []
  },
  {
   "cell_type": "markdown",
   "id": "8da15f0d",
   "metadata": {},
   "source": [
    "An equation using *LaTeX*:\n",
    "\n",
    "$y = mx + b$"
   ]
  },
  {
   "cell_type": "code",
   "execution_count": null,
   "id": "d78d8e80",
   "metadata": {},
   "outputs": [],
   "source": []
  },
  {
   "cell_type": "markdown",
   "id": "58216709",
   "metadata": {},
   "source": [
    "Another equation:\n",
    "\n",
    "$$P = G + E + GxE$$"
   ]
  },
  {
   "cell_type": "code",
   "execution_count": null,
   "id": "69443fe7",
   "metadata": {},
   "outputs": [],
   "source": []
  },
  {
   "cell_type": "markdown",
   "id": "d2bb038c",
   "metadata": {},
   "source": [
    "First table:\n",
    "\n",
    "| Row 0 Column 0 | Row 0 Column 1 | Row 0 Column 2 |\n",
    "| :-: | :-: | :-: |\n",
    "| 10 | 11 | 12 |\n",
    "| 20 | 21 | 22 |\n",
    "| 30 | 31 | 32 |\n"
   ]
  },
  {
   "cell_type": "markdown",
   "id": "22b1246c",
   "metadata": {},
   "source": [
    "Second table:\n",
    "\n",
    "|Left aligned column | Centered column | Right aligned column|\n",
    "|:--|:-:|--:|\n",
    "|**Bold data**|*Italic data*| Normal data|\n",
    "| 20 | 21 | 22 |"
   ]
  },
  {
   "cell_type": "markdown",
   "id": "1aea2be4",
   "metadata": {},
   "source": [
    "Third table?:\n",
    "\n",
    "| Column 0 | Column 1 | Column 2 |\n",
    "| :-:  :-: | :-: |\n",
    "| 00 | 01 | 02 |"
   ]
  },
  {
   "cell_type": "code",
   "execution_count": null,
   "id": "026a0669",
   "metadata": {},
   "outputs": [],
   "source": []
  },
  {
   "cell_type": "markdown",
   "id": "707bbe7c",
   "metadata": {},
   "source": [
    "# Python as a Calculator\n",
    "Numbers, Strings, Lists"
   ]
  },
  {
   "cell_type": "markdown",
   "id": "e17709de",
   "metadata": {},
   "source": [
    "## Numbers"
   ]
  },
  {
   "cell_type": "code",
   "execution_count": null,
   "id": "8b17f608",
   "metadata": {},
   "outputs": [],
   "source": [
    "2 + 2"
   ]
  },
  {
   "cell_type": "code",
   "execution_count": null,
   "id": "46d20f63",
   "metadata": {},
   "outputs": [],
   "source": [
    "50 - 5*6"
   ]
  },
  {
   "cell_type": "code",
   "execution_count": null,
   "id": "b27b5e1e",
   "metadata": {},
   "outputs": [],
   "source": [
    "(50 - 5*6) / 4"
   ]
  },
  {
   "cell_type": "code",
   "execution_count": null,
   "id": "fc6965bb",
   "metadata": {},
   "outputs": [],
   "source": [
    "8 / 5  # division always returns a floating point number"
   ]
  },
  {
   "cell_type": "markdown",
   "id": "e0580d34",
   "metadata": {},
   "source": [
    "The integer numbers (e.g. 2, 4, 20) have type `int`, the ones with a fractional part (e.g. 5.0, 1.6) have type `float`."
   ]
  },
  {
   "cell_type": "code",
   "execution_count": null,
   "id": "fa7789b9",
   "metadata": {},
   "outputs": [],
   "source": [
    "5 ** 2  # 5 squared"
   ]
  },
  {
   "cell_type": "code",
   "execution_count": null,
   "id": "fb2d801e",
   "metadata": {},
   "outputs": [],
   "source": [
    "2 ** 7  # 2 to the power of 7"
   ]
  },
  {
   "cell_type": "markdown",
   "id": "3596231c",
   "metadata": {},
   "source": [
    "The equal sign (=) is used to assign a value to a variable. Afterwards, no result is displayed before the next interactive prompt:"
   ]
  },
  {
   "cell_type": "code",
   "execution_count": null,
   "id": "3f633bfa",
   "metadata": {},
   "outputs": [],
   "source": [
    "width = 20\n",
    "height = 5 * 9\n",
    "width * height"
   ]
  },
  {
   "cell_type": "markdown",
   "id": "4e106da3",
   "metadata": {},
   "source": [
    "If a variable is not “defined” (assigned a value), trying to use it will give you an error:\n",
    "\n"
   ]
  },
  {
   "cell_type": "code",
   "execution_count": null,
   "id": "27af20ca",
   "metadata": {
    "scrolled": true
   },
   "outputs": [],
   "source": [
    "n  # try to access an undefined variable"
   ]
  },
  {
   "cell_type": "code",
   "execution_count": null,
   "id": "d470e53b",
   "metadata": {},
   "outputs": [],
   "source": []
  },
  {
   "cell_type": "markdown",
   "id": "7eae5f10",
   "metadata": {},
   "source": [
    "## Strings"
   ]
  },
  {
   "cell_type": "markdown",
   "id": "1f7818ba",
   "metadata": {},
   "source": [
    "Strings can be enclosed in single quotes ('...') or double quotes (\"...\"). \n",
    "\n",
    "\\ can be used to escape quotes:"
   ]
  },
  {
   "cell_type": "code",
   "execution_count": null,
   "id": "b4b0ad60",
   "metadata": {},
   "outputs": [],
   "source": [
    "'spam eggs'  # single quotes"
   ]
  },
  {
   "cell_type": "code",
   "execution_count": null,
   "id": "3c538d20",
   "metadata": {},
   "outputs": [],
   "source": [
    "'doesn't'"
   ]
  },
  {
   "cell_type": "code",
   "execution_count": null,
   "id": "061eb972",
   "metadata": {},
   "outputs": [],
   "source": [
    "'doesn\\'t'  # use \\' to escape the single quote..."
   ]
  },
  {
   "cell_type": "code",
   "execution_count": null,
   "id": "857dfb4c",
   "metadata": {},
   "outputs": [],
   "source": [
    "\"doesn't\"  # ...or use double quotes instead"
   ]
  },
  {
   "cell_type": "code",
   "execution_count": null,
   "id": "9b9e2e60",
   "metadata": {},
   "outputs": [],
   "source": [
    "'\"Yes,\" they said.'"
   ]
  },
  {
   "cell_type": "code",
   "execution_count": null,
   "id": "2aa48e4e",
   "metadata": {},
   "outputs": [],
   "source": [
    "\"\\\"Yes,\\\" they said.\""
   ]
  },
  {
   "cell_type": "code",
   "execution_count": null,
   "id": "7ffb55ad",
   "metadata": {},
   "outputs": [],
   "source": [
    "'\"Isn\\'t,\" they said.'"
   ]
  },
  {
   "cell_type": "code",
   "execution_count": null,
   "id": "d7032d17",
   "metadata": {},
   "outputs": [],
   "source": [
    "'doesn't'"
   ]
  },
  {
   "cell_type": "markdown",
   "id": "a0740285",
   "metadata": {},
   "source": [
    "Strings can be concatenated (glued together) with the + operator, and repeated with *:"
   ]
  },
  {
   "cell_type": "code",
   "execution_count": null,
   "id": "5d5089a2",
   "metadata": {},
   "outputs": [],
   "source": [
    "# 3 times 'un', followed by 'ium'\n",
    "3 * 'un' + 'ium'"
   ]
  },
  {
   "cell_type": "markdown",
   "id": "6f58951c",
   "metadata": {},
   "source": [
    "Strings can be indexed (subscripted), with the first character having index 0. There is no separate character type; a character is simply a string of size one:"
   ]
  },
  {
   "cell_type": "code",
   "execution_count": null,
   "id": "a402c320",
   "metadata": {},
   "outputs": [],
   "source": [
    "word = 'Python'"
   ]
  },
  {
   "cell_type": "code",
   "execution_count": null,
   "id": "c058effa",
   "metadata": {},
   "outputs": [],
   "source": [
    "word[0]  # character in position 0, (1st element)"
   ]
  },
  {
   "cell_type": "code",
   "execution_count": null,
   "id": "19cfe4d2",
   "metadata": {},
   "outputs": [],
   "source": [
    "word[5]  # character in position 5 (6th element)"
   ]
  },
  {
   "cell_type": "markdown",
   "id": "e09a6742",
   "metadata": {},
   "source": [
    "Indices may also be negative numbers, to start counting from the right:"
   ]
  },
  {
   "cell_type": "code",
   "execution_count": null,
   "id": "256342e9",
   "metadata": {},
   "outputs": [],
   "source": [
    "word[-1]  # last character"
   ]
  },
  {
   "cell_type": "code",
   "execution_count": null,
   "id": "45f4f5af",
   "metadata": {},
   "outputs": [],
   "source": [
    "word[-2]  # second-last character"
   ]
  },
  {
   "cell_type": "code",
   "execution_count": null,
   "id": "173a475c",
   "metadata": {},
   "outputs": [],
   "source": [
    "word[-6]"
   ]
  },
  {
   "cell_type": "markdown",
   "id": "bcbce989",
   "metadata": {},
   "source": [
    "Note that since -0 is the same as 0, negative indices start from -1.\n",
    "\n",
    "In addition to indexing, slicing is also supported. While indexing is used to obtain individual characters, slicing allows you to obtain substring:"
   ]
  },
  {
   "cell_type": "code",
   "execution_count": null,
   "id": "9c973ace",
   "metadata": {},
   "outputs": [],
   "source": [
    "word[0:2]  # characters from position 0 (included) to 2 (excluded)"
   ]
  },
  {
   "cell_type": "code",
   "execution_count": null,
   "id": "916ef495",
   "metadata": {},
   "outputs": [],
   "source": [
    "word[2:5]  # characters from position 2 (included) to 5 (excluded)"
   ]
  },
  {
   "cell_type": "code",
   "execution_count": null,
   "id": "d68aa32b",
   "metadata": {},
   "outputs": [],
   "source": [
    "word[:2]   # character from the beginning to position 2 (excluded)"
   ]
  },
  {
   "cell_type": "code",
   "execution_count": null,
   "id": "06cf1e3e",
   "metadata": {},
   "outputs": [],
   "source": [
    "word[4:]   # characters from position 4 (included) to the end"
   ]
  },
  {
   "cell_type": "code",
   "execution_count": null,
   "id": "cb773fa1",
   "metadata": {},
   "outputs": [],
   "source": [
    "word[-2:]  # characters from the second-last (included) to the end"
   ]
  },
  {
   "cell_type": "markdown",
   "id": "e6865951",
   "metadata": {},
   "source": [
    "Note how the start is always included, and the end always excluded. This makes sure that s[:i] + s[i:] is always equal to s:"
   ]
  },
  {
   "cell_type": "code",
   "execution_count": null,
   "id": "8943e247",
   "metadata": {},
   "outputs": [],
   "source": [
    "word[:2] + word[2:]"
   ]
  },
  {
   "cell_type": "code",
   "execution_count": null,
   "id": "66ac3d2f",
   "metadata": {},
   "outputs": [],
   "source": [
    "word[:4] + word[4:]"
   ]
  },
  {
   "cell_type": "markdown",
   "id": "07071c42",
   "metadata": {},
   "source": [
    "One way to remember how slices work is to think of the indices as pointing between characters, with the left edge of the first character numbered 0. Then the right edge of the last character of a string of n characters has index n, for example:"
   ]
  },
  {
   "cell_type": "markdown",
   "id": "072141fb-2c80-4e45-888e-9839ae960b8f",
   "metadata": {},
   "source": [
    "```python\n",
    " +---+---+---+---+---+---+\n",
    " | P | y | t | h | o | n |\n",
    " +---+---+---+---+---+---+\n",
    " 0   1   2   3   4   5   6\n",
    "-6  -5  -4  -3  -2  -1\n",
    "```"
   ]
  },
  {
   "cell_type": "markdown",
   "id": "3d67e660",
   "metadata": {},
   "source": [
    "The first row of numbers gives the position of the indices 0…6 in the string; the second row gives the corresponding negative indices. The slice from i to j consists of all characters between the edges labeled i and j, respectively."
   ]
  },
  {
   "cell_type": "code",
   "execution_count": null,
   "id": "bdfceb0f",
   "metadata": {},
   "outputs": [],
   "source": []
  },
  {
   "cell_type": "markdown",
   "id": "2c56433d",
   "metadata": {},
   "source": [
    "## Lists\n",
    "Python knows a number of compound data types, used to group together other values. The most versatile is the list, which can be written as a list of comma-separated values (items) between square brackets. Lists might contain items of different types, but usually the items all have the same type."
   ]
  },
  {
   "cell_type": "code",
   "execution_count": null,
   "id": "c6d8b3a1",
   "metadata": {},
   "outputs": [],
   "source": [
    "squares = [1, 4, 9, 16, 25]\n",
    "squares"
   ]
  },
  {
   "cell_type": "markdown",
   "id": "35feddf8",
   "metadata": {},
   "source": [
    "Lists can also be sliced"
   ]
  },
  {
   "cell_type": "code",
   "execution_count": null,
   "id": "75e7a068",
   "metadata": {},
   "outputs": [],
   "source": [
    "squares[0]  # indexing returns the item"
   ]
  },
  {
   "cell_type": "code",
   "execution_count": null,
   "id": "e4031dc6",
   "metadata": {},
   "outputs": [],
   "source": [
    "squares[-1]"
   ]
  },
  {
   "cell_type": "code",
   "execution_count": null,
   "id": "8351228c",
   "metadata": {},
   "outputs": [],
   "source": [
    "squares[-3:]  # slicing returns a new list"
   ]
  },
  {
   "cell_type": "code",
   "execution_count": null,
   "id": "aa4c6d61",
   "metadata": {},
   "outputs": [],
   "source": [
    "# Concatenation\n",
    "squares + [36, 49, 64, 81, 100]"
   ]
  },
  {
   "cell_type": "markdown",
   "id": "ef9c6fea",
   "metadata": {},
   "source": [
    "Unlike strings, which are immutable, lists are a mutable type, i.e. it is possible to change their content:"
   ]
  },
  {
   "cell_type": "code",
   "execution_count": null,
   "id": "293af2fb",
   "metadata": {},
   "outputs": [],
   "source": [
    "word[2] = 'g'"
   ]
  },
  {
   "cell_type": "code",
   "execution_count": null,
   "id": "59d0bc6a",
   "metadata": {},
   "outputs": [],
   "source": [
    "cubes = [1, 8, 27, 65, 125]  # something's wrong here\n",
    "4 ** 3  # the cube of 4 is 64, not 65!"
   ]
  },
  {
   "cell_type": "code",
   "execution_count": null,
   "id": "e3228238",
   "metadata": {},
   "outputs": [],
   "source": [
    "cubes[3] = 64  # replace the wrong value\n",
    "cubes"
   ]
  },
  {
   "cell_type": "markdown",
   "id": "fab4108e",
   "metadata": {},
   "source": [
    "You can also add new items at the end of the list, by using the append() method"
   ]
  },
  {
   "cell_type": "code",
   "execution_count": null,
   "id": "139f7ad8",
   "metadata": {},
   "outputs": [],
   "source": [
    "cubes.append(216)  # add the cube of 6\n",
    "cubes"
   ]
  },
  {
   "cell_type": "code",
   "execution_count": null,
   "id": "60341663",
   "metadata": {},
   "outputs": [],
   "source": [
    "cubes.append(7 ** 3)  # and the cube of 7\n",
    "cubes"
   ]
  },
  {
   "cell_type": "markdown",
   "id": "da7a6f72",
   "metadata": {},
   "source": [
    "Assignment to slices is also possible, and this can even change the size of the list or clear it entirely:"
   ]
  },
  {
   "cell_type": "code",
   "execution_count": null,
   "id": "291d11b8",
   "metadata": {},
   "outputs": [],
   "source": [
    "letters = ['a', 'b', 'c', 'd', 'e', 'f', 'g']\n",
    "letters\n",
    "\n",
    "# replace some values\n",
    "letters[2:5] = ['C', 'D', 'E']\n",
    "letters\n",
    "\n",
    "# now remove them\n",
    "letters[2:5] = []\n",
    "letters\n",
    "\n",
    "# clear the list by replacing all the elements with an empty list\n",
    "letters[:] = []\n",
    "letters"
   ]
  },
  {
   "cell_type": "markdown",
   "id": "dc25b7d9",
   "metadata": {},
   "source": [
    "It is possible to nest lists (create lists containing other lists), for example:\n",
    "\n"
   ]
  },
  {
   "cell_type": "code",
   "execution_count": null,
   "id": "fcf6591f",
   "metadata": {},
   "outputs": [],
   "source": [
    "a = ['a', 'b', 'c']\n",
    "n = [1, 2, 3]\n",
    "x = [a, n]\n",
    "x"
   ]
  },
  {
   "cell_type": "code",
   "execution_count": null,
   "id": "d817f1b4-0fa5-443b-842a-29b083a3d1ed",
   "metadata": {},
   "outputs": [],
   "source": [
    "x[0]"
   ]
  },
  {
   "cell_type": "code",
   "execution_count": null,
   "id": "3fb5f78b-e092-48c9-968a-a7d79cbf37ef",
   "metadata": {},
   "outputs": [],
   "source": [
    "x[0][1]"
   ]
  },
  {
   "cell_type": "code",
   "execution_count": null,
   "id": "8e36c24a",
   "metadata": {},
   "outputs": [],
   "source": []
  },
  {
   "cell_type": "markdown",
   "id": "1a42fb0e",
   "metadata": {},
   "source": [
    "# First Steps Towards Programming"
   ]
  },
  {
   "cell_type": "code",
   "execution_count": null,
   "id": "c9c65d24",
   "metadata": {},
   "outputs": [],
   "source": [
    "# Fibonacci series:\n",
    "# the sum of two elements defines the next\n",
    "a, b = 0, 1\n",
    "while a < 10:\n",
    "    print(a)\n",
    "    a, b = b, a+b"
   ]
  },
  {
   "cell_type": "markdown",
   "id": "312c7f07",
   "metadata": {},
   "source": [
    "- The first line contains a multiple assignment.\n",
    "- The while loop executes as long as the condition (here: a < 10) remains true.\n",
    "- The body of the loop is indented: indentation is Python’s way of grouping statements.\n",
    "- The print() function writes the value of the argument(s) it is given."
   ]
  },
  {
   "cell_type": "markdown",
   "id": "29a496c3",
   "metadata": {},
   "source": [
    "The keyword argument end can be used to avoid the newline after the output, or end the output with a different string:"
   ]
  },
  {
   "cell_type": "code",
   "execution_count": null,
   "id": "37e1478f",
   "metadata": {},
   "outputs": [],
   "source": [
    "a, b = 0, 1\n",
    "while a < 1000:\n",
    "    print(a, end=',')\n",
    "    a, b = b, a+b"
   ]
  },
  {
   "cell_type": "markdown",
   "id": "62cd29e4-e1b7-4192-97df-ddb21912392a",
   "metadata": {},
   "source": [
    "Avoid infinite loops!"
   ]
  },
  {
   "cell_type": "markdown",
   "id": "a5796215-9fa0-4485-99ae-f396e2bf839e",
   "metadata": {},
   "source": [
    "## What's wrong here?"
   ]
  },
  {
   "cell_type": "code",
   "execution_count": null,
   "id": "fecc1966-b5c6-4617-a479-3c0281827e2d",
   "metadata": {},
   "outputs": [],
   "source": [
    "a, b = 0, 1\n",
    "while a < 10\n",
    "    print(a)\n",
    "    a, b = b, a+b"
   ]
  },
  {
   "cell_type": "code",
   "execution_count": null,
   "id": "d4147cfe-24a8-4419-ae86-d13c0d025734",
   "metadata": {},
   "outputs": [],
   "source": [
    "a = 0\n",
    "b = 1\n",
    "while a < 10:\n",
    "    print(a)\n",
    "     a, b = b, a+b"
   ]
  },
  {
   "cell_type": "code",
   "execution_count": null,
   "id": "889f2bcd-2827-4543-9c7c-efe202ff429b",
   "metadata": {},
   "outputs": [],
   "source": []
  },
  {
   "cell_type": "code",
   "execution_count": null,
   "id": "0d096a3e-3da2-4490-90a6-4b7b6fbbe374",
   "metadata": {},
   "outputs": [],
   "source": []
  },
  {
   "cell_type": "markdown",
   "id": "6716994e",
   "metadata": {},
   "source": [
    "## Control Flow Tools"
   ]
  },
  {
   "cell_type": "markdown",
   "id": "53681f63",
   "metadata": {},
   "source": [
    "### `if` Statements"
   ]
  },
  {
   "cell_type": "code",
   "execution_count": null,
   "id": "5fdbe38b-1156-4967-a459-77812ea5f5a2",
   "metadata": {},
   "outputs": [],
   "source": [
    "x = int(input(\"Please enter an integer: \"))\n",
    "\n",
    "if x < 0:\n",
    "    x = 0\n",
    "    print('Negative changed to zero')\n",
    "elif x == 0:\n",
    "    print('Zero')\n",
    "elif x == 1:\n",
    "    print('Single')\n",
    "else:\n",
    "    print('More')"
   ]
  },
  {
   "cell_type": "code",
   "execution_count": null,
   "id": "fb5fefe7",
   "metadata": {},
   "outputs": [],
   "source": []
  },
  {
   "cell_type": "code",
   "execution_count": null,
   "id": "3568217c",
   "metadata": {},
   "outputs": [],
   "source": []
  },
  {
   "cell_type": "markdown",
   "id": "c7f29740",
   "metadata": {},
   "source": [
    "### `for` Statements"
   ]
  },
  {
   "cell_type": "code",
   "execution_count": null,
   "id": "60e3bc9e",
   "metadata": {},
   "outputs": [],
   "source": [
    "# Measure some strings:\n",
    "words = ['cat', 'window', 'defenestrate']\n",
    "for w in words:\n",
    "    print(w, len(w))"
   ]
  },
  {
   "cell_type": "code",
   "execution_count": null,
   "id": "1e068a78",
   "metadata": {},
   "outputs": [],
   "source": []
  },
  {
   "cell_type": "markdown",
   "id": "94dd688a",
   "metadata": {},
   "source": [
    "### The `range()` Function\n",
    "If you do need to iterate over a sequence of numbers, the built-in function range() comes in handy. It generates arithmetic progressions:"
   ]
  },
  {
   "cell_type": "code",
   "execution_count": null,
   "id": "846f68bc",
   "metadata": {},
   "outputs": [],
   "source": [
    "for i in range(5):\n",
    "    print(i)"
   ]
  },
  {
   "cell_type": "code",
   "execution_count": null,
   "id": "88d7a464",
   "metadata": {},
   "outputs": [],
   "source": [
    "list(range(5, 10))"
   ]
  },
  {
   "cell_type": "code",
   "execution_count": null,
   "id": "90e8b09d",
   "metadata": {},
   "outputs": [],
   "source": [
    "list(range(0, 10, 3))"
   ]
  },
  {
   "cell_type": "code",
   "execution_count": null,
   "id": "c7313b1e",
   "metadata": {},
   "outputs": [],
   "source": [
    "list(range(-10, -100, -30))"
   ]
  },
  {
   "cell_type": "code",
   "execution_count": null,
   "id": "c0ab0158",
   "metadata": {},
   "outputs": [],
   "source": [
    "a = ['Mary', 'had', 'a', 'little', 'lamb']\n",
    "for i in range(len(a)):\n",
    "    print(i, a[i])"
   ]
  },
  {
   "cell_type": "code",
   "execution_count": null,
   "id": "751fce32",
   "metadata": {},
   "outputs": [],
   "source": [
    "range(10)"
   ]
  },
  {
   "cell_type": "markdown",
   "id": "2244b405",
   "metadata": {},
   "source": [
    "In many ways the object returned by range() behaves as if it is a list, but in fact it isn’t. It is an object which returns the successive items of the desired sequence when you iterate over it, but it doesn’t really make the list, thus saving space."
   ]
  },
  {
   "cell_type": "code",
   "execution_count": null,
   "id": "e3661681",
   "metadata": {},
   "outputs": [],
   "source": [
    "sum(range(4))  # 0 + 1 + 2 + 3"
   ]
  },
  {
   "cell_type": "code",
   "execution_count": null,
   "id": "414863b5",
   "metadata": {},
   "outputs": [],
   "source": []
  },
  {
   "cell_type": "markdown",
   "id": "0ef99a6d",
   "metadata": {},
   "source": [
    "# Defining Functions"
   ]
  },
  {
   "cell_type": "code",
   "execution_count": null,
   "id": "12527a63",
   "metadata": {},
   "outputs": [],
   "source": [
    "def fib(n):    # write Fibonacci series up to n\n",
    "    \"\"\"Print a Fibonacci series up to n.\"\"\"\n",
    "    a, b = 0, 1\n",
    "    while a < n:\n",
    "        print(a, end=' ')\n",
    "        a, b = b, a+b\n",
    "    print()\n",
    "\n",
    "# Now call the function we just defined:\n",
    "fib(2000)"
   ]
  },
  {
   "cell_type": "code",
   "execution_count": null,
   "id": "5f3f95e2",
   "metadata": {},
   "outputs": [],
   "source": [
    "fib"
   ]
  },
  {
   "cell_type": "code",
   "execution_count": null,
   "id": "da0863d5",
   "metadata": {},
   "outputs": [],
   "source": [
    "f = fib\n",
    "f(100)"
   ]
  },
  {
   "cell_type": "code",
   "execution_count": null,
   "id": "918a38e9",
   "metadata": {},
   "outputs": [],
   "source": [
    "def fib2(n):  # return Fibonacci series up to n\n",
    "    \"\"\"Return a list containing the Fibonacci series up to n.\"\"\"\n",
    "    result = []\n",
    "    a, b = 0, 1\n",
    "    while a < n:\n",
    "        result.append(a)    # see below\n",
    "        a, b = b, a+b\n",
    "    return result\n",
    "                # write the result"
   ]
  },
  {
   "cell_type": "code",
   "execution_count": null,
   "id": "f844befa",
   "metadata": {},
   "outputs": [],
   "source": [
    "f100 = fib2(100)    # call it\n",
    "f100"
   ]
  },
  {
   "cell_type": "code",
   "execution_count": null,
   "id": "019f2dde",
   "metadata": {},
   "outputs": [],
   "source": []
  },
  {
   "cell_type": "code",
   "execution_count": null,
   "id": "89da4bba",
   "metadata": {},
   "outputs": [],
   "source": []
  },
  {
   "cell_type": "code",
   "execution_count": null,
   "id": "fe25082c",
   "metadata": {},
   "outputs": [],
   "source": []
  },
  {
   "cell_type": "markdown",
   "id": "10bd6948",
   "metadata": {},
   "source": [
    "Another tutorial for blob (or seed) detection"
   ]
  },
  {
   "cell_type": "code",
   "execution_count": null,
   "id": "921b2200",
   "metadata": {},
   "outputs": [],
   "source": []
  },
  {
   "cell_type": "markdown",
   "id": "30def58e",
   "metadata": {},
   "source": [
    "# Data Wrangling with Pandas\n",
    "Source: https://pandas.pydata.org/pandas-docs/stable/user_guide/10min.html\n",
    "\n",
    "Pandas cheat sheet: https://pandas.pydata.org/Pandas_Cheat_Sheet.pdf"
   ]
  },
  {
   "cell_type": "code",
   "execution_count": null,
   "id": "63fcd3fa",
   "metadata": {},
   "outputs": [],
   "source": [
    "# Import packages\n",
    "import numpy as np\n",
    "import pandas as pd"
   ]
  },
  {
   "cell_type": "markdown",
   "id": "8e9172be",
   "metadata": {},
   "source": [
    "Creating a Series by passing a list of values, letting pandas create a default integer index:"
   ]
  },
  {
   "cell_type": "code",
   "execution_count": null,
   "id": "d3c8870c",
   "metadata": {},
   "outputs": [],
   "source": [
    "s = pd.Series([1, 3, 5, np.nan, 6, 8])\n",
    "s"
   ]
  },
  {
   "cell_type": "markdown",
   "id": "5abbe91e",
   "metadata": {},
   "source": [
    "Creating a DataFrame by passing a NumPy array, with a datetime index and labeled columns:"
   ]
  },
  {
   "cell_type": "code",
   "execution_count": null,
   "id": "cec5e3a6",
   "metadata": {},
   "outputs": [],
   "source": [
    "dates = pd.date_range(\"20130101\", periods=6)\n",
    "dates"
   ]
  },
  {
   "cell_type": "code",
   "execution_count": null,
   "id": "f9fff781",
   "metadata": {},
   "outputs": [],
   "source": [
    "df = pd.DataFrame(np.random.randn(6, 4), index=dates, columns=list(\"ABCD\"))\n",
    "df"
   ]
  },
  {
   "cell_type": "markdown",
   "id": "91d75b3b",
   "metadata": {},
   "source": [
    "Creating a DataFrame by passing a dictionary of objects that can be converted into a series-like structure:"
   ]
  },
  {
   "cell_type": "code",
   "execution_count": null,
   "id": "3d09235a",
   "metadata": {},
   "outputs": [],
   "source": [
    "df2 = pd.DataFrame(\n",
    "    {\n",
    "        \"A\": 1.0,\n",
    "        \"B\": pd.Timestamp(\"20130102\"),\n",
    "        \"C\": pd.Series(1, index=list(range(4)), dtype=\"float32\"),\n",
    "        \"D\": np.array([3] * 4, dtype=\"int32\"),\n",
    "        \"E\": pd.Categorical([\"test\", \"train\", \"test\", \"train\"]),\n",
    "        \"F\": \"foo\",\n",
    "    }\n",
    ")\n",
    "\n",
    "df2"
   ]
  },
  {
   "cell_type": "code",
   "execution_count": null,
   "id": "a18830b5",
   "metadata": {},
   "outputs": [],
   "source": [
    "df2.dtypes"
   ]
  },
  {
   "cell_type": "code",
   "execution_count": null,
   "id": "015d8a45",
   "metadata": {},
   "outputs": [],
   "source": [
    "# Use tab autocomplete\n",
    "df2.duplicated"
   ]
  },
  {
   "cell_type": "code",
   "execution_count": null,
   "id": "7de57f72",
   "metadata": {},
   "outputs": [],
   "source": [
    "df2.<TAB>  # noqa: E225, E999"
   ]
  },
  {
   "cell_type": "code",
   "execution_count": null,
   "id": "b5ac15ad",
   "metadata": {},
   "outputs": [],
   "source": []
  },
  {
   "cell_type": "markdown",
   "id": "6447eedf",
   "metadata": {},
   "source": [
    "## Viewing data\n"
   ]
  },
  {
   "cell_type": "code",
   "execution_count": null,
   "id": "73e4f937",
   "metadata": {},
   "outputs": [],
   "source": [
    "df.head()"
   ]
  },
  {
   "cell_type": "code",
   "execution_count": null,
   "id": "7c8f46d6",
   "metadata": {},
   "outputs": [],
   "source": [
    "df.tail(3)"
   ]
  },
  {
   "cell_type": "code",
   "execution_count": null,
   "id": "82af131b",
   "metadata": {},
   "outputs": [],
   "source": [
    "df.index"
   ]
  },
  {
   "cell_type": "code",
   "execution_count": null,
   "id": "30d62aae",
   "metadata": {},
   "outputs": [],
   "source": [
    "df.columns"
   ]
  },
  {
   "cell_type": "code",
   "execution_count": null,
   "id": "35730d3d",
   "metadata": {},
   "outputs": [],
   "source": [
    "df.to_numpy()"
   ]
  },
  {
   "cell_type": "code",
   "execution_count": null,
   "id": "58313a4a",
   "metadata": {},
   "outputs": [],
   "source": [
    "df2.to_numpy()"
   ]
  },
  {
   "cell_type": "code",
   "execution_count": null,
   "id": "08623262",
   "metadata": {},
   "outputs": [],
   "source": []
  },
  {
   "cell_type": "code",
   "execution_count": null,
   "id": "7480413e",
   "metadata": {},
   "outputs": [],
   "source": [
    "df.describe()"
   ]
  },
  {
   "cell_type": "code",
   "execution_count": null,
   "id": "c016dd4f",
   "metadata": {},
   "outputs": [],
   "source": [
    "df.T"
   ]
  },
  {
   "cell_type": "code",
   "execution_count": null,
   "id": "c5944557",
   "metadata": {},
   "outputs": [],
   "source": [
    "df.sort_values(by=\"B\")"
   ]
  },
  {
   "cell_type": "markdown",
   "id": "a0cbe96e",
   "metadata": {},
   "source": [
    "## Getting"
   ]
  },
  {
   "cell_type": "code",
   "execution_count": null,
   "id": "9f291760",
   "metadata": {},
   "outputs": [],
   "source": [
    "df[\"A\"]"
   ]
  },
  {
   "cell_type": "code",
   "execution_count": null,
   "id": "047e3448",
   "metadata": {},
   "outputs": [],
   "source": [
    "df[0:3]"
   ]
  },
  {
   "cell_type": "code",
   "execution_count": null,
   "id": "32a4c2d2",
   "metadata": {},
   "outputs": [],
   "source": [
    "df[\"20130102\":\"20130104\"]"
   ]
  },
  {
   "cell_type": "markdown",
   "id": "1fb8226e",
   "metadata": {},
   "source": [
    "### Selection by label"
   ]
  },
  {
   "cell_type": "code",
   "execution_count": null,
   "id": "796724ad",
   "metadata": {},
   "outputs": [],
   "source": [
    "df.loc[dates[0]]"
   ]
  },
  {
   "cell_type": "code",
   "execution_count": null,
   "id": "666b4dfa",
   "metadata": {},
   "outputs": [],
   "source": [
    "df.loc[:, [\"A\", \"B\"]]"
   ]
  },
  {
   "cell_type": "code",
   "execution_count": null,
   "id": "43109afc",
   "metadata": {},
   "outputs": [],
   "source": [
    "df.loc[\"20130102\":\"20130104\", [\"A\", \"B\"]]"
   ]
  },
  {
   "cell_type": "code",
   "execution_count": null,
   "id": "9afc80a1",
   "metadata": {},
   "outputs": [],
   "source": [
    "df.loc[\"20130102\", [\"A\", \"B\"]]"
   ]
  },
  {
   "cell_type": "code",
   "execution_count": null,
   "id": "0f3e7625",
   "metadata": {},
   "outputs": [],
   "source": [
    "df.loc[dates[0], \"A\"]"
   ]
  },
  {
   "cell_type": "markdown",
   "id": "ca3d9109",
   "metadata": {},
   "source": [
    "### Selection by position"
   ]
  },
  {
   "cell_type": "code",
   "execution_count": null,
   "id": "d9191f89",
   "metadata": {},
   "outputs": [],
   "source": [
    "df.iloc[3]"
   ]
  },
  {
   "cell_type": "code",
   "execution_count": null,
   "id": "37838acb",
   "metadata": {},
   "outputs": [],
   "source": [
    "df.iloc[3:5, 0:2]"
   ]
  },
  {
   "cell_type": "code",
   "execution_count": null,
   "id": "5b2e79cd",
   "metadata": {},
   "outputs": [],
   "source": [
    "df.iloc[[1, 2, 4], [0, 2]]"
   ]
  },
  {
   "cell_type": "code",
   "execution_count": null,
   "id": "99c0efa1",
   "metadata": {},
   "outputs": [],
   "source": [
    "df.iloc[1:3, :]"
   ]
  },
  {
   "cell_type": "code",
   "execution_count": null,
   "id": "ec7689bd",
   "metadata": {},
   "outputs": [],
   "source": [
    "df.iloc[:, 1:3]"
   ]
  },
  {
   "cell_type": "code",
   "execution_count": null,
   "id": "a6a64f32",
   "metadata": {},
   "outputs": [],
   "source": [
    "df.iloc[1, 1]"
   ]
  },
  {
   "cell_type": "markdown",
   "id": "5b80f23f",
   "metadata": {},
   "source": [
    "### Boolean indexing"
   ]
  },
  {
   "cell_type": "code",
   "execution_count": null,
   "id": "1b79e696",
   "metadata": {},
   "outputs": [],
   "source": [
    "df[df[\"A\"] > 0]"
   ]
  },
  {
   "cell_type": "code",
   "execution_count": null,
   "id": "9e0431cf",
   "metadata": {},
   "outputs": [],
   "source": [
    "df[df > 0]"
   ]
  },
  {
   "cell_type": "markdown",
   "id": "8b50e50f",
   "metadata": {},
   "source": [
    "Using the `isin()` method for filtering:"
   ]
  },
  {
   "cell_type": "code",
   "execution_count": null,
   "id": "3549098b",
   "metadata": {},
   "outputs": [],
   "source": [
    "df2 = df.copy()"
   ]
  },
  {
   "cell_type": "code",
   "execution_count": null,
   "id": "fcd6a4f0",
   "metadata": {},
   "outputs": [],
   "source": [
    "df2[\"E\"] = [\"one\", \"one\", \"two\", \"three\", \"four\", \"three\"]\n",
    "df2"
   ]
  },
  {
   "cell_type": "code",
   "execution_count": null,
   "id": "aaf85a8e",
   "metadata": {},
   "outputs": [],
   "source": [
    "df2[df2[\"E\"].isin([\"two\", \"four\"])]"
   ]
  },
  {
   "cell_type": "markdown",
   "id": "49908496",
   "metadata": {},
   "source": [
    "### Missing data"
   ]
  },
  {
   "cell_type": "code",
   "execution_count": null,
   "id": "5e10ffd9",
   "metadata": {},
   "outputs": [],
   "source": [
    "df1 = df.reindex(index=dates[0:4], columns=list(df.columns) + [\"E\"])\n",
    "df1"
   ]
  },
  {
   "cell_type": "code",
   "execution_count": null,
   "id": "5f27e46e",
   "metadata": {},
   "outputs": [],
   "source": [
    "df1.loc[dates[0] : dates[1], \"E\"] = 1\n",
    "df1"
   ]
  },
  {
   "cell_type": "code",
   "execution_count": null,
   "id": "445c7dfb",
   "metadata": {},
   "outputs": [],
   "source": [
    "df1.dropna(how=\"any\")"
   ]
  },
  {
   "cell_type": "code",
   "execution_count": null,
   "id": "a58f3aa3",
   "metadata": {},
   "outputs": [],
   "source": [
    "df1.fillna(value=5)"
   ]
  },
  {
   "cell_type": "code",
   "execution_count": null,
   "id": "5336926c",
   "metadata": {},
   "outputs": [],
   "source": [
    "pd.isna(df1)"
   ]
  },
  {
   "cell_type": "code",
   "execution_count": null,
   "id": "0c508bed",
   "metadata": {},
   "outputs": [],
   "source": []
  },
  {
   "cell_type": "markdown",
   "id": "7a43f57e",
   "metadata": {},
   "source": [
    "### Operations"
   ]
  },
  {
   "cell_type": "code",
   "execution_count": null,
   "id": "7587a6c6",
   "metadata": {},
   "outputs": [],
   "source": [
    "df.mean()"
   ]
  },
  {
   "cell_type": "code",
   "execution_count": null,
   "id": "d59e92ac",
   "metadata": {},
   "outputs": [],
   "source": [
    "df.mean(1)"
   ]
  },
  {
   "cell_type": "code",
   "execution_count": null,
   "id": "e43e7cb1",
   "metadata": {},
   "outputs": [],
   "source": []
  },
  {
   "cell_type": "markdown",
   "id": "8f7d0412",
   "metadata": {},
   "source": [
    "## Merge"
   ]
  },
  {
   "cell_type": "markdown",
   "id": "2060091e",
   "metadata": {},
   "source": [
    "### Concat"
   ]
  },
  {
   "cell_type": "code",
   "execution_count": null,
   "id": "fc01461b",
   "metadata": {},
   "outputs": [],
   "source": [
    "df = pd.DataFrame(np.random.randn(10, 4))\n",
    "df"
   ]
  },
  {
   "cell_type": "code",
   "execution_count": null,
   "id": "60e2033d",
   "metadata": {},
   "outputs": [],
   "source": [
    "pieces = [df[:3], df[3:7], df[7:]]\n",
    "pieces"
   ]
  },
  {
   "cell_type": "code",
   "execution_count": null,
   "id": "6bea93cb",
   "metadata": {},
   "outputs": [],
   "source": [
    "pd.concat(pieces)"
   ]
  },
  {
   "cell_type": "code",
   "execution_count": null,
   "id": "e1a238c6",
   "metadata": {},
   "outputs": [],
   "source": []
  },
  {
   "cell_type": "markdown",
   "id": "74b12c8f",
   "metadata": {},
   "source": [
    "### Join"
   ]
  },
  {
   "cell_type": "code",
   "execution_count": null,
   "id": "54ab3fbc",
   "metadata": {},
   "outputs": [],
   "source": [
    "left = pd.DataFrame({\"key\": [\"foo\", \"foo\"], \"lval\": [1, 2]})\n",
    "left"
   ]
  },
  {
   "cell_type": "code",
   "execution_count": null,
   "id": "aabd68ee",
   "metadata": {},
   "outputs": [],
   "source": [
    "right = pd.DataFrame({\"key\": [\"foo\", \"foo\"], \"rval\": [4, 5]})\n",
    "right"
   ]
  },
  {
   "cell_type": "code",
   "execution_count": null,
   "id": "85833134",
   "metadata": {},
   "outputs": [],
   "source": [
    "pd.merge(left, right, on=\"key\")"
   ]
  },
  {
   "cell_type": "code",
   "execution_count": null,
   "id": "a0f839c8",
   "metadata": {},
   "outputs": [],
   "source": []
  },
  {
   "cell_type": "code",
   "execution_count": null,
   "id": "cef7c0ce",
   "metadata": {},
   "outputs": [],
   "source": []
  },
  {
   "cell_type": "code",
   "execution_count": null,
   "id": "fbf217ec",
   "metadata": {},
   "outputs": [],
   "source": [
    "left = pd.DataFrame({\"key\": [\"foo\", \"bar\"], \"lval\": [1, 2]})\n",
    "left"
   ]
  },
  {
   "cell_type": "code",
   "execution_count": null,
   "id": "785e46c0",
   "metadata": {},
   "outputs": [],
   "source": [
    "right = pd.DataFrame({\"key\": [\"foo\", \"bar\"], \"rval\": [4, 5]})\n",
    "right"
   ]
  },
  {
   "cell_type": "code",
   "execution_count": null,
   "id": "2d53ab3b",
   "metadata": {},
   "outputs": [],
   "source": [
    "pd.merge(left, right, on=\"key\")"
   ]
  },
  {
   "cell_type": "code",
   "execution_count": null,
   "id": "97560832",
   "metadata": {},
   "outputs": [],
   "source": []
  },
  {
   "cell_type": "code",
   "execution_count": null,
   "id": "89d82291",
   "metadata": {},
   "outputs": [],
   "source": []
  },
  {
   "cell_type": "markdown",
   "id": "0b0c0db1",
   "metadata": {},
   "source": [
    "## Grouping"
   ]
  },
  {
   "cell_type": "code",
   "execution_count": null,
   "id": "ce89e3b2",
   "metadata": {},
   "outputs": [],
   "source": [
    "df = pd.DataFrame(\n",
    "    {\n",
    "        \"A\": [\"foo\", \"bar\", \"foo\", \"bar\", \"foo\", \"bar\", \"foo\", \"foo\"],\n",
    "        \"B\": [\"one\", \"one\", \"two\", \"three\", \"two\", \"two\", \"one\", \"three\"],\n",
    "        \"C\": np.random.randn(8),\n",
    "        \"D\": np.random.randn(8),\n",
    "    }\n",
    ")\n",
    "\n",
    "df"
   ]
  },
  {
   "cell_type": "code",
   "execution_count": null,
   "id": "adbdab9c",
   "metadata": {},
   "outputs": [],
   "source": [
    "df.groupby(\"A\").sum()"
   ]
  },
  {
   "cell_type": "code",
   "execution_count": null,
   "id": "00e9b75a",
   "metadata": {},
   "outputs": [],
   "source": [
    "df.groupby([\"A\", \"B\"]).sum()"
   ]
  },
  {
   "cell_type": "code",
   "execution_count": null,
   "id": "370fd4a9",
   "metadata": {},
   "outputs": [],
   "source": []
  },
  {
   "cell_type": "markdown",
   "id": "b3d44ff4",
   "metadata": {},
   "source": [
    "## Plotting"
   ]
  },
  {
   "cell_type": "code",
   "execution_count": null,
   "id": "8dbc6c8c",
   "metadata": {},
   "outputs": [],
   "source": [
    "import matplotlib.pyplot as plt"
   ]
  },
  {
   "cell_type": "code",
   "execution_count": null,
   "id": "b0734942",
   "metadata": {},
   "outputs": [],
   "source": [
    "plt.close(\"all\")"
   ]
  },
  {
   "cell_type": "code",
   "execution_count": null,
   "id": "71b8ea00",
   "metadata": {},
   "outputs": [],
   "source": [
    "ts = pd.Series(np.random.randn(1000), index=pd.date_range(\"1/1/2000\", periods=1000))\n",
    "ts"
   ]
  },
  {
   "cell_type": "code",
   "execution_count": null,
   "id": "92d2510c",
   "metadata": {},
   "outputs": [],
   "source": [
    "ts = ts.cumsum()\n",
    "ts"
   ]
  },
  {
   "cell_type": "code",
   "execution_count": null,
   "id": "808c5f53",
   "metadata": {},
   "outputs": [],
   "source": [
    "ts.plot();"
   ]
  },
  {
   "cell_type": "code",
   "execution_count": null,
   "id": "c61641da",
   "metadata": {},
   "outputs": [],
   "source": [
    "plt.show();"
   ]
  },
  {
   "cell_type": "code",
   "execution_count": null,
   "id": "44e5ee30",
   "metadata": {},
   "outputs": [],
   "source": []
  },
  {
   "cell_type": "code",
   "execution_count": null,
   "id": "3972d722",
   "metadata": {},
   "outputs": [],
   "source": [
    "df = pd.DataFrame(\n",
    "    np.random.randn(1000, 4), index=ts.index, columns=[\"A\", \"B\", \"C\", \"D\"]\n",
    ")\n",
    "df"
   ]
  },
  {
   "cell_type": "code",
   "execution_count": null,
   "id": "b9b712f4",
   "metadata": {},
   "outputs": [],
   "source": [
    "df = df.cumsum()\n",
    "df"
   ]
  },
  {
   "cell_type": "code",
   "execution_count": null,
   "id": "c7d94d70",
   "metadata": {},
   "outputs": [],
   "source": [
    "plt.figure();\n",
    "df.plot();\n",
    "plt.legend(loc='best');"
   ]
  },
  {
   "cell_type": "markdown",
   "id": "b9fd7d01",
   "metadata": {},
   "source": [
    "## Getting data in/out"
   ]
  },
  {
   "cell_type": "markdown",
   "id": "92e7705a",
   "metadata": {},
   "source": [
    "Check current directory"
   ]
  },
  {
   "cell_type": "code",
   "execution_count": null,
   "id": "b127b663",
   "metadata": {},
   "outputs": [],
   "source": [
    "pwd"
   ]
  },
  {
   "cell_type": "markdown",
   "id": "8abf3cfe",
   "metadata": {},
   "source": [
    "Write csv"
   ]
  },
  {
   "cell_type": "code",
   "execution_count": null,
   "id": "0581d91a",
   "metadata": {},
   "outputs": [],
   "source": [
    "df.to_csv(\"foo.csv\")"
   ]
  },
  {
   "cell_type": "markdown",
   "id": "e8b9310d",
   "metadata": {},
   "source": [
    "Read csv"
   ]
  },
  {
   "cell_type": "code",
   "execution_count": null,
   "id": "d3970e1f",
   "metadata": {},
   "outputs": [],
   "source": [
    "pd.read_csv(\"foo.csv\")"
   ]
  },
  {
   "cell_type": "markdown",
   "id": "136d4b1b",
   "metadata": {},
   "source": [
    "Write Excel file"
   ]
  },
  {
   "cell_type": "code",
   "execution_count": null,
   "id": "d8e24c0e",
   "metadata": {},
   "outputs": [],
   "source": [
    "df.to_excel(\"foo.xlsx\", sheet_name=\"Sheet1\")"
   ]
  },
  {
   "cell_type": "markdown",
   "id": "21a0ed40",
   "metadata": {},
   "source": [
    "Read Excel file"
   ]
  },
  {
   "cell_type": "code",
   "execution_count": null,
   "id": "d13b9fae",
   "metadata": {},
   "outputs": [],
   "source": [
    "pd.read_excel(\"foo.xlsx\", \"Sheet1\", index_col=None, na_values=[\"NA\"])"
   ]
  },
  {
   "cell_type": "code",
   "execution_count": null,
   "id": "f53b8cc8",
   "metadata": {},
   "outputs": [],
   "source": []
  },
  {
   "cell_type": "markdown",
   "id": "270ada68-4f7f-41f1-8cf0-e77fb7a3c4eb",
   "metadata": {},
   "source": [
    "## More Pandas"
   ]
  },
  {
   "cell_type": "code",
   "execution_count": null,
   "id": "367016a7-057a-45ea-905c-a5e3ca369af2",
   "metadata": {},
   "outputs": [],
   "source": []
  },
  {
   "cell_type": "code",
   "execution_count": null,
   "id": "f9489a3b",
   "metadata": {},
   "outputs": [],
   "source": [
    "df = pd.read_csv(\"foo.csv\")\n",
    "df"
   ]
  },
  {
   "cell_type": "code",
   "execution_count": null,
   "id": "42cb33b6-a4a4-4a98-82fa-2ccb153711cd",
   "metadata": {},
   "outputs": [],
   "source": [
    "# Genotypes = ['G01'] * 3 + ['G02'] * 3 + ['G03'] * 3 + ['G04'] * 3\n",
    "# Genotypes"
   ]
  },
  {
   "cell_type": "code",
   "execution_count": null,
   "id": "090f2e47-eaa8-4b4d-b852-944209978d9b",
   "metadata": {},
   "outputs": [],
   "source": [
    "Genotypes = ['G01'] * 250 + ['G02'] * 250 + ['G03'] * 250 + ['G04'] * 250\n",
    "# Genotypes"
   ]
  },
  {
   "cell_type": "code",
   "execution_count": null,
   "id": "05e8d592-eb25-4d36-91a5-f5a41d96d2ef",
   "metadata": {},
   "outputs": [],
   "source": [
    "df['Genotypes'] = Genotypes"
   ]
  },
  {
   "cell_type": "code",
   "execution_count": null,
   "id": "57f2f9d7-e36a-4a82-9b82-5b42d39b2ca2",
   "metadata": {},
   "outputs": [],
   "source": [
    "df"
   ]
  },
  {
   "cell_type": "code",
   "execution_count": null,
   "id": "7722d376-7446-4ee2-9d6a-985f75ca0a4f",
   "metadata": {},
   "outputs": [],
   "source": [
    "df = df.rename(columns={\"A\": \"Env01\", \"B\": \"Env02\", \"C\": \"Env03\", \"D\": \"Env04\"}, errors=\"raise\")"
   ]
  },
  {
   "cell_type": "code",
   "execution_count": null,
   "id": "1f3d51a3-a74c-47d3-8a01-61efa782affc",
   "metadata": {},
   "outputs": [],
   "source": [
    "df = df.drop(['Unnamed: 0'], axis=1)"
   ]
  },
  {
   "cell_type": "code",
   "execution_count": null,
   "id": "183f2ee6-2f81-46b0-8bc9-69a9bf28b60c",
   "metadata": {},
   "outputs": [],
   "source": [
    "df.columns"
   ]
  },
  {
   "cell_type": "code",
   "execution_count": null,
   "id": "0b355c2c-1f60-4dd5-bb90-bd8130be1d22",
   "metadata": {},
   "outputs": [],
   "source": [
    "df"
   ]
  },
  {
   "cell_type": "code",
   "execution_count": null,
   "id": "28ae898d-7bd9-4766-99c4-64efe44b9b9c",
   "metadata": {},
   "outputs": [],
   "source": [
    "df2 = pd.melt(df, id_vars=['Genotypes'], \n",
    "                value_vars=['Env01','Env02','Env03','Env04'],\n",
    "                var_name='Environment', value_name='Phenotype')"
   ]
  },
  {
   "cell_type": "code",
   "execution_count": null,
   "id": "dbfc29b4-19d6-42c1-9656-e464b6122ea0",
   "metadata": {},
   "outputs": [],
   "source": [
    "df2"
   ]
  },
  {
   "cell_type": "code",
   "execution_count": null,
   "id": "ca908de7-e59d-458a-ba44-7038bdeeddb5",
   "metadata": {},
   "outputs": [],
   "source": [
    "# Change a specific category\n",
    "df2['Environment'] = np.where(df2['Environment']=='Env03','Greenhouse', df2['Environment'])"
   ]
  },
  {
   "cell_type": "markdown",
   "id": "f15b70d9-5a0d-4abf-bb6e-894a691db24b",
   "metadata": {},
   "source": [
    "### Missing `ggplot2`???"
   ]
  },
  {
   "cell_type": "code",
   "execution_count": null,
   "id": "7ac182e0-f910-4081-a33c-95fdd20096c7",
   "metadata": {},
   "outputs": [],
   "source": [
    "from plotnine import *"
   ]
  },
  {
   "cell_type": "code",
   "execution_count": null,
   "id": "35ffe15c-94ad-4507-a533-893402f17631",
   "metadata": {},
   "outputs": [],
   "source": [
    "ggplot(df2, aes(x='Environment', y='Phenotype', \n",
    "               fill='Genotypes')) + geom_boxplot()  "
   ]
  },
  {
   "cell_type": "code",
   "execution_count": null,
   "id": "3b73843d-3d34-4fc9-8cba-c8b66db0958d",
   "metadata": {},
   "outputs": [],
   "source": [
    "ggplot(df2, aes(x='Genotypes', y='Phenotype', \n",
    "               fill='Environment')) + geom_boxplot()  "
   ]
  },
  {
   "cell_type": "code",
   "execution_count": null,
   "id": "292f9fb3-6d2f-43f0-ba8f-5e0dfd1d15c8",
   "metadata": {},
   "outputs": [],
   "source": []
  },
  {
   "cell_type": "code",
   "execution_count": null,
   "id": "80cc54df-291e-4e8d-a171-4dadf94dae94",
   "metadata": {},
   "outputs": [],
   "source": []
  },
  {
   "cell_type": "code",
   "execution_count": null,
   "id": "b04c2040-03b2-4176-b367-cf429c9ab7f3",
   "metadata": {},
   "outputs": [],
   "source": []
  },
  {
   "cell_type": "code",
   "execution_count": null,
   "id": "ff7a9665-ec9f-4747-ac0b-dff1b719ab73",
   "metadata": {},
   "outputs": [],
   "source": []
  },
  {
   "cell_type": "code",
   "execution_count": null,
   "id": "45bec502-7049-42d6-aaf7-8f7abc434bb6",
   "metadata": {},
   "outputs": [],
   "source": []
  },
  {
   "cell_type": "markdown",
   "id": "578228c5",
   "metadata": {},
   "source": [
    "# Image Processing in Python\n"
   ]
  },
  {
   "cell_type": "markdown",
   "id": "341c6864-29c3-490d-a356-b0f05427f270",
   "metadata": {},
   "source": [
    "Images are commonly used as NumPy arrays. This is because an image is just a matrix of numbers. Almost all computations in scienctific python are done on Numpy arrays. \\\n",
    "Arrays can be n-dimensional. Gray images are usually 2D arrays. RGB images are usually 3D arrays.\n"
   ]
  },
  {
   "cell_type": "markdown",
   "id": "df7d13c5-a44f-4b82-aed3-40b43d840c1f",
   "metadata": {},
   "source": [
    "## Example using an edge detector (Sobel)"
   ]
  },
  {
   "cell_type": "code",
   "execution_count": null,
   "id": "d3a41b80",
   "metadata": {},
   "outputs": [],
   "source": [
    "# Import specific functions from a package\n",
    "from skimage import data, io, filters"
   ]
  },
  {
   "cell_type": "code",
   "execution_count": null,
   "id": "0e155ce8-e2b9-4788-8cd6-a626e971841c",
   "metadata": {},
   "outputs": [],
   "source": [
    "image = data.coins()\n",
    "# ... or any other NumPy array!\n",
    "image"
   ]
  },
  {
   "cell_type": "code",
   "execution_count": null,
   "id": "5dabfa87",
   "metadata": {},
   "outputs": [],
   "source": [
    "edges = filters.sobel(image)\n",
    "io.imshow(edges)"
   ]
  },
  {
   "cell_type": "code",
   "execution_count": null,
   "id": "f921b846-1544-493a-a7e8-f9a17a937cc8",
   "metadata": {},
   "outputs": [],
   "source": []
  },
  {
   "cell_type": "markdown",
   "id": "af46b4dc-c837-4549-b6a0-be64dfe1737f",
   "metadata": {},
   "source": [
    "## Example using thresholding"
   ]
  },
  {
   "cell_type": "code",
   "execution_count": null,
   "id": "86267029",
   "metadata": {},
   "outputs": [],
   "source": [
    "import matplotlib.pyplot as plt\n",
    "import matplotlib.patches as mpatches\n",
    "\n",
    "from skimage import data\n",
    "from skimage.filters import threshold_otsu\n",
    "from skimage.segmentation import clear_border\n",
    "from skimage.measure import label, regionprops\n",
    "from skimage.morphology import closing, square\n",
    "from skimage.color import label2rgb"
   ]
  },
  {
   "cell_type": "code",
   "execution_count": null,
   "id": "40fe7a5f",
   "metadata": {},
   "outputs": [],
   "source": [
    "# load a subset of the image\n",
    "image = data.coins()[50:-50, 50:-50]\n",
    "image"
   ]
  },
  {
   "cell_type": "code",
   "execution_count": null,
   "id": "62d5da0d",
   "metadata": {},
   "outputs": [],
   "source": [
    "# Apply threshold (Otsu)\n",
    "thresh = threshold_otsu(image)\n",
    "thresh"
   ]
  },
  {
   "cell_type": "code",
   "execution_count": null,
   "id": "b3c1dbcf-c653-4973-9f1c-e76b87f9bce7",
   "metadata": {},
   "outputs": [],
   "source": [
    "# Apply closing\n",
    "bw = closing(image > thresh, square(3))\n",
    "# plt.imshow(bw)\n",
    "plt.imshow(bw, cmap='gray')"
   ]
  },
  {
   "cell_type": "code",
   "execution_count": null,
   "id": "59fa3be0",
   "metadata": {},
   "outputs": [],
   "source": [
    "# Remove artifacts connected to image border\n",
    "cleared = clear_border(bw)\n",
    "plt.imshow(cleared)"
   ]
  },
  {
   "cell_type": "code",
   "execution_count": null,
   "id": "6321dc22",
   "metadata": {},
   "outputs": [],
   "source": [
    "# label image regions\n",
    "label_image = label(cleared)\n",
    "label_image\n",
    "# plt.imshow(label_image)"
   ]
  },
  {
   "cell_type": "code",
   "execution_count": null,
   "id": "a0696782-aae9-4f6f-ab21-02dc152e90db",
   "metadata": {},
   "outputs": [],
   "source": [
    "# to make the background transparent, pass the value of `bg_label`,\n",
    "# and leave `bg_color` as `None` and `kind` as `overlay`\n",
    "image_label_overlay = label2rgb(label_image, image=image, bg_label=0)\n",
    "plt.imshow(image_label_overlay)\n"
   ]
  },
  {
   "cell_type": "markdown",
   "id": "cd61a97d-c2a9-4ebd-a023-67d29561f8cd",
   "metadata": {},
   "source": [
    "## Region Properties\n",
    "Requires a labeled image"
   ]
  },
  {
   "cell_type": "code",
   "execution_count": null,
   "id": "1cc8fd9c",
   "metadata": {},
   "outputs": [],
   "source": [
    "fig, ax = plt.subplots(figsize=(10, 6))\n",
    "ax.imshow(image_label_overlay)\n",
    "\n",
    "for region in regionprops(label_image):\n",
    "    # take regions with large enough areas\n",
    "    if region.area >= 100:\n",
    "        # draw rectangle around segmented coins\n",
    "        minr, minc, maxr, maxc = region.bbox\n",
    "        rect = mpatches.Rectangle((minc, minr), maxc - minc, maxr - minr,\n",
    "                                  fill=False, edgecolor='red', linewidth=2)\n",
    "        ax.add_patch(rect)\n",
    "\n",
    "ax.set_axis_off()\n",
    "plt.tight_layout()\n",
    "plt.show()"
   ]
  },
  {
   "cell_type": "code",
   "execution_count": null,
   "id": "5a8c646a-094a-4228-9b37-431f50fb55c0",
   "metadata": {},
   "outputs": [],
   "source": []
  },
  {
   "cell_type": "code",
   "execution_count": null,
   "id": "984e1157",
   "metadata": {},
   "outputs": [],
   "source": [
    "Props = regionprops(label_image)\n",
    "# rp"
   ]
  },
  {
   "cell_type": "code",
   "execution_count": null,
   "id": "1573d52f",
   "metadata": {},
   "outputs": [],
   "source": [
    "# Get data with list comprehensions\n",
    "Labels = [rp.label for rp in Props]\n",
    "Areas = [rp.area for rp in Props]"
   ]
  },
  {
   "cell_type": "code",
   "execution_count": null,
   "id": "c240e5e5",
   "metadata": {},
   "outputs": [],
   "source": [
    "Labels"
   ]
  },
  {
   "cell_type": "code",
   "execution_count": null,
   "id": "8e34f47b-4bf0-452d-9169-694e00ff7ecc",
   "metadata": {},
   "outputs": [],
   "source": [
    "Image_df = pd.DataFrame()\n",
    "Image_df['Label'] = Labels\n",
    "Image_df['Area'] = Areas\n",
    "Image_df"
   ]
  },
  {
   "cell_type": "code",
   "execution_count": null,
   "id": "3b9fa5d5",
   "metadata": {},
   "outputs": [],
   "source": []
  },
  {
   "cell_type": "code",
   "execution_count": null,
   "id": "f738e839",
   "metadata": {},
   "outputs": [],
   "source": []
  },
  {
   "cell_type": "code",
   "execution_count": null,
   "id": "67f68681",
   "metadata": {},
   "outputs": [],
   "source": []
  },
  {
   "cell_type": "code",
   "execution_count": null,
   "id": "e7b794f8",
   "metadata": {},
   "outputs": [],
   "source": []
  },
  {
   "cell_type": "markdown",
   "id": "f0da2e28",
   "metadata": {},
   "source": []
  },
  {
   "cell_type": "code",
   "execution_count": null,
   "id": "eaef93ce",
   "metadata": {},
   "outputs": [],
   "source": []
  }
 ],
 "metadata": {
  "kernelspec": {
   "display_name": "Python 3",
   "language": "python",
   "name": "python3"
  },
  "language_info": {
   "codemirror_mode": {
    "name": "ipython",
    "version": 3
   },
   "file_extension": ".py",
   "mimetype": "text/x-python",
   "name": "python",
   "nbconvert_exporter": "python",
   "pygments_lexer": "ipython3",
   "version": "3.8.8"
  },
  "toc-autonumbering": true,
  "toc-showcode": false,
  "toc-showmarkdowntxt": false,
  "toc-showtags": false
 },
 "nbformat": 4,
 "nbformat_minor": 5
}
